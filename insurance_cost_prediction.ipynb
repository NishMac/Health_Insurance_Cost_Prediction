{
 "cells": [
  {
   "cell_type": "code",
   "execution_count": null,
   "id": "f8be7406-ef15-4c02-962b-36d99f5f81c0",
   "metadata": {},
   "outputs": [],
   "source": [
    "import pandas as pd\n",
    "import numpy as np\n",
    "import matplotlib.pyplot as plt\n",
    "import seaborn as sns\n",
    "import plotly.graph_objects as go\n",
    "import plotly.express as px\n",
    "import warnings\n",
    "\n",
    "# Set up for Jupyter Notebook\n",
    "%matplotlib inline\n",
    "\n",
    "# Configuring styles and warnings\n",
    "sns.set_style(\"dark\")  # Setting the Seaborn style\n",
    "warnings.filterwarnings('ignore')  # Suppress warnings\n",
    "\n",
    "# Define color palettes\n",
    "dark = sns.color_palette('dark')\n",
    "bright = sns.color_palette('bright')\n",
    "deep = sns.color_palette('deep')\n",
    "pastel = sns.color_palette('pastel')\n"
   ]
  },
  {
   "cell_type": "code",
   "execution_count": null,
   "id": "1d75791d-14f8-4a08-b3cd-b80910f7cfd8",
   "metadata": {},
   "outputs": [],
   "source": [
    "## Loading The Dataset Using `read_csv()`\n",
    "df = pd.read_csv('insurance.csv')\n",
    "df.head()"
   ]
  },
  {
   "cell_type": "code",
   "execution_count": null,
   "id": "e230c8c6-a265-4a75-b950-6c866798bded",
   "metadata": {},
   "outputs": [],
   "source": [
    "df.shape"
   ]
  },
  {
   "cell_type": "code",
   "execution_count": null,
   "id": "b0a08440-8437-4222-ac3e-23b543118ee1",
   "metadata": {},
   "outputs": [],
   "source": [
    "df.info()"
   ]
  },
  {
   "cell_type": "code",
   "execution_count": null,
   "id": "847caab8-147b-45d5-bb89-d5e5376f57a8",
   "metadata": {},
   "outputs": [],
   "source": [
    "df.describe()"
   ]
  },
  {
   "cell_type": "code",
   "execution_count": null,
   "id": "e81f62d7-eb91-4233-856a-135f780632d4",
   "metadata": {},
   "outputs": [],
   "source": [
    "df.isnull().sum()"
   ]
  },
  {
   "cell_type": "code",
   "execution_count": null,
   "id": "8b56d865-61c4-42a2-aa60-61762570de0d",
   "metadata": {},
   "outputs": [],
   "source": [
    "df.hist(bins=20,figsize=(20,10));"
   ]
  },
  {
   "cell_type": "code",
   "execution_count": null,
   "id": "01491ac6-5f32-45a8-8fc3-3aba774b660b",
   "metadata": {},
   "outputs": [],
   "source": [
    "categorical_columns = [feature for feature in df.columns if df[feature].dtype=='O']\n",
    "categorical_columns"
   ]
  },
  {
   "cell_type": "code",
   "execution_count": null,
   "id": "d0481b07-489c-444e-9146-bdf8e370c4a7",
   "metadata": {},
   "outputs": [],
   "source": [
    "for col in categorical_columns:\n",
    "    plt.figure(figsize=(10, 6))  # Set the figure size for better visibility\n",
    "    ax = sns.countplot(x=col, data=df)  # Explicitly name the 'x' parameter\n",
    "    plt.title(col)\n",
    "    \n",
    "    # Calculate the percentage labels\n",
    "    total = len(df[col])  # Total counts\n",
    "    for p in ax.patches:\n",
    "        percentage = f'{100 * p.get_height() / total:.1f}%'  # Calculate percentage\n",
    "        x = p.get_x() + p.get_width() / 2  # X position of text\n",
    "        y = p.get_height()  # Height of the patch\n",
    "        ax.annotate(percentage, (x, y), ha='center', va='bottom')  # Place text on plot\n",
    "    \n",
    "    plt.show()\n"
   ]
  },
  {
   "cell_type": "code",
   "execution_count": null,
   "id": "3335c45f-454d-49d7-abd5-62921936f583",
   "metadata": {},
   "outputs": [],
   "source": [
    "df.columns"
   ]
  },
  {
   "cell_type": "code",
   "execution_count": null,
   "id": "038c1a9a-86b7-4d0f-9bad-bd7e6862db7f",
   "metadata": {},
   "outputs": [],
   "source": [
    "df.groupby('age')['charges'].mean().plot()"
   ]
  },
  {
   "cell_type": "code",
   "execution_count": null,
   "id": "835e8202-dacf-41eb-830f-5fc04947a3c5",
   "metadata": {},
   "outputs": [],
   "source": [
    "## Age vs BMI\n",
    "plt.figure(figsize=(17,7))\n",
    "sns.lineplot(data=df,x=\"age\",y=\"bmi\",hue=\"sex\",palette='dark')\n",
    "plt.title(\"Body mass index with the Age\")\n",
    "plt.show()"
   ]
  },
  {
   "cell_type": "code",
   "execution_count": null,
   "id": "88f2cd5f-daeb-4ba9-a622-b31b03d4af9d",
   "metadata": {},
   "outputs": [],
   "source": [
    "temp = df.groupby('sex')['charges'].mean()\n",
    "temp.plot(kind='bar',color=['pink','brown'])"
   ]
  },
  {
   "cell_type": "code",
   "execution_count": null,
   "id": "5cce5eb4-9858-4890-a58f-b319c8b37da0",
   "metadata": {},
   "outputs": [],
   "source": [
    "sns.barplot(data=df,x='smoker',y='charges',hue='sex')"
   ]
  },
  {
   "cell_type": "code",
   "execution_count": null,
   "id": "377c1e8b-b069-444b-b7f3-185b0b924fb3",
   "metadata": {},
   "outputs": [],
   "source": [
    "plt.figure(figsize=(15,8))\n",
    "sns.scatterplot(data=df,x='bmi',y='charges')"
   ]
  },
  {
   "cell_type": "code",
   "execution_count": null,
   "id": "070a2496-01ec-4176-8f7c-58332969a4a1",
   "metadata": {},
   "outputs": [],
   "source": [
    "# Define a custom palette\n",
    "custom_palette = ['#6a3d9a', '#ff7f00', '#b15928', '#e31a1c', '#33a02c', '#1f78b4']\n",
    "\n",
    "# Create a boxen plot with custom colors\n",
    "sns.catplot(x=\"children\", y=\"charges\", kind=\"boxen\", data=df, height=10, palette=custom_palette)\n",
    "plt.show()\n"
   ]
  },
  {
   "cell_type": "code",
   "execution_count": null,
   "id": "1bab43da-762e-4bed-843b-160fe120142e",
   "metadata": {},
   "outputs": [],
   "source": [
    "# Using custom colors\n",
    "custom_palette = ['#4a7ba9', '#55a868', '#c44e52', '#8172b3', '#ccb974', '#64b5cd']\n",
    "sns.catplot(x=\"children\", y=\"charges\", kind=\"swarm\", data=df, height=10, palette=custom_palette)\n",
    "plt.show()\n"
   ]
  },
  {
   "cell_type": "code",
   "execution_count": null,
   "id": "656e91d7-a122-43a8-939d-8da114f61ba3",
   "metadata": {},
   "outputs": [],
   "source": [
    "plt.figure(figsize=(12,5))\n",
    "sns.countplot(data=df,x='region')\n",
    "# ax = sns.countplot(data=df,x='region')\n",
    "# ax.bar_label(ax.containers[0])"
   ]
  },
  {
   "cell_type": "code",
   "execution_count": null,
   "id": "1cb85a92-4ded-4c07-904b-77a5161e722c",
   "metadata": {},
   "outputs": [],
   "source": [
    "plt.figure(figsize=(12,5))\n",
    "sns.barplot(data=df,x='region',y='charges')"
   ]
  },
  {
   "cell_type": "code",
   "execution_count": null,
   "id": "033e4c25-bbbc-457c-a6b9-fa987fdab14d",
   "metadata": {},
   "outputs": [],
   "source": [
    "plt.figure(figsize=(12,5))\n",
    "sns.barplot(data=df,x='region',y='charges',hue='smoker')"
   ]
  },
  {
   "cell_type": "code",
   "execution_count": null,
   "id": "b6ceff00-5087-48b8-97c1-d9f1c8390001",
   "metadata": {},
   "outputs": [],
   "source": [
    "df[df['age']>50]['region'].value_counts().plot.barh(color=pastel,figsize=(10,8))\n",
    "plt.title('Regions With Oldest People')"
   ]
  },
  {
   "cell_type": "code",
   "execution_count": null,
   "id": "debcb2d1-87ca-4019-aa68-57ee1ad443f3",
   "metadata": {},
   "outputs": [],
   "source": [
    "sns.pairplot(df,palette='pastel')"
   ]
  },
  {
   "cell_type": "code",
   "execution_count": null,
   "id": "85abf299-a182-40d7-be8e-b1c0f984abd7",
   "metadata": {},
   "outputs": [],
   "source": [
    "## Making a Group \n",
    "a=df.groupby([\"sex\",\"smoker\",\"region\"])[\"charges\"].mean().round(2)\n",
    "a"
   ]
  },
  {
   "cell_type": "code",
   "execution_count": null,
   "id": "5260669f-fc4f-4c16-a476-7b77b9e30b88",
   "metadata": {},
   "outputs": [],
   "source": [
    "a.plot(kind=\"bar\", figsize=(20,7),color=pastel)"
   ]
  },
  {
   "cell_type": "code",
   "execution_count": null,
   "id": "240ec5a8-d207-4f64-8ba5-0241f82700aa",
   "metadata": {},
   "outputs": [],
   "source": [
    "df.columns"
   ]
  },
  {
   "cell_type": "code",
   "execution_count": null,
   "id": "8d371d16-bfbb-45ff-9ee2-c6dd47a03a25",
   "metadata": {},
   "outputs": [],
   "source": [
    "plt.figure(figsize=(17,7))\n",
    "px.scatter(data_frame=df,\n",
    "           x='bmi', \n",
    "           y='charges',\n",
    "           color=\"sex\",\n",
    "           size=\"children\",\n",
    "           symbol='smoker',\n",
    "           hover_name='region',\n",
    "           text='age',\n",
    "           title='Group Information Of Insurance Data On Different Scatter Points')"
   ]
  },
  {
   "cell_type": "code",
   "execution_count": null,
   "id": "505cdc2a-fa1a-4511-b416-b8ba2d4573a2",
   "metadata": {},
   "outputs": [],
   "source": [
    "## Handling Categorical Data\n",
    "categorical_columns"
   ]
  },
  {
   "cell_type": "code",
   "execution_count": null,
   "id": "fff06ad9-89d8-4833-bdd1-27976364ce62",
   "metadata": {},
   "outputs": [],
   "source": [
    "from sklearn.preprocessing import LabelEncoder\n",
    "le = LabelEncoder()\n",
    "for col in categorical_columns:\n",
    "    df[col] = le.fit_transform(df[col])"
   ]
  },
  {
   "cell_type": "code",
   "execution_count": null,
   "id": "7e4dff45-e6fe-47f2-8ca0-85962b26547d",
   "metadata": {},
   "outputs": [],
   "source": [
    "df.head()"
   ]
  },
  {
   "cell_type": "code",
   "execution_count": null,
   "id": "49534e44-1723-4e6e-80bc-4c277eddf4a7",
   "metadata": {},
   "outputs": [],
   "source": [
    "## Data splitting\n",
    "X = df.drop('charges',axis=1)\n",
    "y = np.log(df['charges'])"
   ]
  },
  {
   "cell_type": "code",
   "execution_count": null,
   "id": "63dd7fc1-1a38-498b-8198-97d3927de329",
   "metadata": {},
   "outputs": [],
   "source": [
    "X"
   ]
  },
  {
   "cell_type": "code",
   "execution_count": null,
   "id": "c63d8c90-4443-49e5-ad38-771b9b368e5b",
   "metadata": {},
   "outputs": [],
   "source": [
    "y.head()"
   ]
  },
  {
   "cell_type": "code",
   "execution_count": null,
   "id": "8269f0db-d121-412d-8d4f-20cd2e52e409",
   "metadata": {},
   "outputs": [],
   "source": [
    "## Train Test Split\n",
    "from sklearn.model_selection import train_test_split\n",
    "X_train, X_test, y_train, y_test = train_test_split(X, y, test_size=0.25, random_state=42)"
   ]
  },
  {
   "cell_type": "code",
   "execution_count": null,
   "id": "041b047e-24cb-41de-8400-56607b49d92b",
   "metadata": {},
   "outputs": [],
   "source": [
    "X_train.shape\n"
   ]
  },
  {
   "cell_type": "code",
   "execution_count": null,
   "id": "ba06bdb5-318b-4d9b-bd3d-ce63982ee435",
   "metadata": {},
   "outputs": [],
   "source": [
    "X_test.shape\n"
   ]
  },
  {
   "cell_type": "code",
   "execution_count": null,
   "id": "9caf6d34-4775-44e9-89c7-5c6314655bd3",
   "metadata": {},
   "outputs": [],
   "source": [
    "from sklearn.metrics import mean_absolute_error, r2_score\n"
   ]
  },
  {
   "cell_type": "code",
   "execution_count": null,
   "id": "73e277d6-03d1-4394-8ba1-522530941130",
   "metadata": {},
   "outputs": [],
   "source": [
    "from sklearn.linear_model import LinearRegression  \n",
    "\n",
    "linreg=LinearRegression()\n",
    "linreg.fit(X_train,y_train)\n",
    "\n",
    "print(\"Score the X-train with Y-train is : \", linreg.score(X_train,y_train))\n",
    "print(\"Score the X-test  with Y-test  is : \", linreg.score(X_test,y_test))\n",
    "\n",
    "y_pred = linreg.predict(X_test)\n",
    "print(\"MAE: \" ,mean_absolute_error(y_test,y_pred))"
   ]
  },
  {
   "cell_type": "code",
   "execution_count": null,
   "id": "7f0a8af6-c1a7-46ac-a144-be7ee0fd212f",
   "metadata": {},
   "outputs": [],
   "source": [
    "from sklearn.linear_model import Ridge\n",
    "ridge = Ridge()\n",
    "ridge.fit(X_train,y_train)\n",
    "\n",
    "print(\"Score the X-train with Y-train is : \", ridge.score(X_train,y_train))\n",
    "print(\"Score the X-test  with Y-test  is : \", ridge.score(X_test,y_test))\n",
    "\n",
    "y_pred = ridge.predict(X_test)\n",
    "print(\"MAE: \" ,mean_absolute_error(y_test,y_pred))"
   ]
  },
  {
   "cell_type": "code",
   "execution_count": null,
   "id": "4e386e30-be67-48ac-9c2a-4f953fbe39fb",
   "metadata": {},
   "outputs": [],
   "source": [
    "from sklearn.ensemble import RandomForestRegressor\n",
    "rfr = RandomForestRegressor(n_estimators=100,random_state=42)\n",
    "rfr.fit(X_train,y_train)\n",
    "\n",
    "\n",
    "print(\"Score the X-train with Y-train is : \", rfr.score(X_train,y_train))\n",
    "print(\"Score the X-test  with Y-test  is : \", rfr.score(X_test,y_test))\n",
    "\n",
    "y_pred = rfr.predict(X_test)\n",
    "print(\"MAE: \" ,mean_absolute_error(y_test,y_pred))"
   ]
  },
  {
   "cell_type": "code",
   "execution_count": null,
   "id": "a91e4e1e-c5de-43ff-bd76-b0997d648570",
   "metadata": {},
   "outputs": [],
   "source": [
    "from sklearn.ensemble import ExtraTreesRegressor\n",
    "etr = ExtraTreesRegressor(n_estimators=100,random_state=42)\n",
    "etr.fit(X_train,y_train)\n",
    "\n",
    "\n",
    "print(\"Score the X-train with Y-train is : \", etr.score(X_train,y_train))\n",
    "print(\"Score the X-test  with Y-test  is : \", etr.score(X_test,y_test))\n",
    "\n",
    "y_pred =etr.predict(X_test)\n",
    "print(\"MAE: \" ,mean_absolute_error(y_test,y_pred))"
   ]
  },
  {
   "cell_type": "code",
   "execution_count": null,
   "id": "14b3664c-b373-44e5-a56c-46212ad0fc7e",
   "metadata": {},
   "outputs": [],
   "source": [
    "from sklearn.ensemble import AdaBoostRegressor\n",
    "abr = AdaBoostRegressor(random_state=42)\n",
    "abr.fit(X_train,y_train)\n",
    "\n",
    "print(\"Score the X-train with Y-train is : \", abr.score(X_train,y_train))\n",
    "print(\"Score the X-test  with Y-test  is : \", abr.score(X_test,y_test))\n",
    "\n",
    "y_pred = abr.predict(X_test)\n",
    "print(\"MAE: \" ,mean_absolute_error(y_test,y_pred))"
   ]
  },
  {
   "cell_type": "code",
   "execution_count": null,
   "id": "2fb22c7b-d6db-4573-86f2-f99b4e15406d",
   "metadata": {},
   "outputs": [],
   "source": [
    "from sklearn.ensemble import GradientBoostingRegressor\n",
    "gbr = GradientBoostingRegressor(random_state=42)\n",
    "gbr.fit(X_train,y_train)\n",
    "\n",
    "print(\"Score the X-train with Y-train is : \", gbr.score(X_train,y_train))\n",
    "print(\"Score the X-test  with Y-test  is : \", gbr.score(X_test,y_test))\n",
    "\n",
    "y_pred = gbr.predict(X_test)\n",
    "print(\"MAE: \" ,mean_absolute_error(y_test,y_pred))"
   ]
  },
  {
   "cell_type": "code",
   "execution_count": null,
   "id": "72cac794-2897-4bf6-b197-ed9d9a37a3fd",
   "metadata": {},
   "outputs": [],
   "source": [
    "from xgboost import XGBRegressor\n",
    "xgb=XGBRegressor(random_state=42)\n",
    "\n",
    "xgb.fit(X_train,y_train)\n",
    "\n",
    "print(\"Score the X-train with Y-train is : \", xgb.score(X_train,y_train))\n",
    "print(\"Score the X-test  with Y-test  is : \", xgb.score(X_test,y_test))\n",
    "\n",
    "y_pred = xgb.predict(X_test)\n",
    "print(\"MAE: \" ,mean_absolute_error(y_test,y_pred))"
   ]
  },
  {
   "cell_type": "code",
   "execution_count": null,
   "id": "46179de0-0f15-4bef-a17e-c8e354f74002",
   "metadata": {},
   "outputs": [],
   "source": [
    "import pickle \n",
    "pickle.dump(gbr, open('gbr-model', 'wb'))"
   ]
  },
  {
   "cell_type": "code",
   "execution_count": null,
   "id": "f0c777b6-0e9c-47af-a1dc-a5451e369d4f",
   "metadata": {},
   "outputs": [],
   "source": [
    "from sklearn.model_selection import GridSearchCV\n",
    "param_grid = {'learning_rate':[0.5,0.10,0.01,0.1],\n",
    "             'n_estimators':[25,50,75,100,125],\n",
    "              'max_depth':[5,7,9,10],\n",
    "              'subsample':[1,2],\n",
    "              'min_samples_split':[1,2,3],\n",
    "              'min_samples_leaf':[1,1.5,2],\n",
    "              'max_depth':[5,7,9,10]\n",
    "              \n",
    "             }\n",
    "\n",
    "g_search = GridSearchCV(estimator = gbr, param_grid = param_grid,cv = 3, n_jobs = 1,verbose = True, return_train_score=True)\n",
    "g_search.fit(X_train, y_train);\n",
    "\n",
    "print(g_search.best_params_)\n",
    "print(g_search.score(X_test, y_test))"
   ]
  },
  {
   "cell_type": "code",
   "execution_count": null,
   "id": "d71bfe60-c3d7-4dbc-b613-ab6cdbe4298e",
   "metadata": {},
   "outputs": [],
   "source": [
    "y_pred = g_search.predict(X_test)\n",
    "print(\"R2 Score Gradient Boost Regressor\" ,r2_score(y_test,y_pred))"
   ]
  },
  {
   "cell_type": "code",
   "execution_count": null,
   "id": "afd20378-236f-4f9f-bbb5-02a55032f552",
   "metadata": {},
   "outputs": [],
   "source": [
    "import pickle \n",
    "pickle.dump(g_search, open('model.pkl', 'wb'))"
   ]
  },
  {
   "cell_type": "code",
   "execution_count": null,
   "id": "31d44f9e-4e26-48cc-bea4-3b21ffc8a106",
   "metadata": {},
   "outputs": [],
   "source": [
    "loaded_model = pickle.load(open(\"model.pkl\", \"rb\"))\n",
    "loaded_model.predict(X_test)\n",
    "loaded_model.score(X_test,y_test)"
   ]
  },
  {
   "cell_type": "code",
   "execution_count": null,
   "id": "5b27876a-c321-4ca6-a7b8-4a92f433d6e3",
   "metadata": {},
   "outputs": [],
   "source": [
    "age = int(input(\"Enter Your Age \\n\"))\n",
    "sex = int(input(\"What's Your Gender(1:Male 0:Female) \\n\"))\n",
    "bmi = float(input(\"Enter Your Body Mass Index \\n\"))\n",
    "children = int(input(\"How Many Childrens Your Have (If None Enter 0) \\n\"))\n",
    "smoker = int(input(\"Do You Smoke? (1: Yes 0:No) \\n\"))\n",
    "region = int(input(\"What's You Region(northeast:0,northwest:1,southeast:2,southwest:3) \\n\"))\n",
    "\n",
    "data = [age,sex,bmi,children,smoker,region]\n",
    "new_data = pd.DataFrame([data],columns=['age', 'sex', 'bmi', 'children', 'smoker', 'region'])\n",
    "prediction = loaded_model.predict(new_data)\n",
    "print(np.exp(prediction[0]))"
   ]
  }
 ],
 "metadata": {
  "kernelspec": {
   "display_name": "Python 3 (ipykernel)",
   "language": "python",
   "name": "python3"
  },
  "language_info": {
   "codemirror_mode": {
    "name": "ipython",
    "version": 3
   },
   "file_extension": ".py",
   "mimetype": "text/x-python",
   "name": "python",
   "nbconvert_exporter": "python",
   "pygments_lexer": "ipython3",
   "version": "3.11.4"
  }
 },
 "nbformat": 4,
 "nbformat_minor": 5
}
